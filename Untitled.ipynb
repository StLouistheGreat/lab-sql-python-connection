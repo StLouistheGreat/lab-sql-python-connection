{
 "cells": [
  {
   "cell_type": "code",
   "execution_count": 16,
   "id": "154880c7-3704-4c9e-bd0c-f0d9f4f10c20",
   "metadata": {
    "tags": []
   },
   "outputs": [
    {
     "name": "stdout",
     "output_type": "stream",
     "text": [
      "Requirement already satisfied: mysql-connector-python in c:\\users\\ampob\\anaconda3\\lib\\site-packages (8.4.0)\n",
      "Requirement already satisfied: pandas in c:\\users\\ampob\\anaconda3\\lib\\site-packages (2.1.4)\n",
      "Requirement already satisfied: sqlalchemy in c:\\users\\ampob\\anaconda3\\lib\\site-packages (2.0.25)\n",
      "Requirement already satisfied: numpy<2,>=1.23.2 in c:\\users\\ampob\\anaconda3\\lib\\site-packages (from pandas) (1.24.3)\n",
      "Requirement already satisfied: python-dateutil>=2.8.2 in c:\\users\\ampob\\anaconda3\\lib\\site-packages (from pandas) (2.8.2)\n",
      "Requirement already satisfied: pytz>=2020.1 in c:\\users\\ampob\\anaconda3\\lib\\site-packages (from pandas) (2023.3.post1)\n",
      "Requirement already satisfied: tzdata>=2022.1 in c:\\users\\ampob\\anaconda3\\lib\\site-packages (from pandas) (2023.3)\n",
      "Requirement already satisfied: typing-extensions>=4.6.0 in c:\\users\\ampob\\anaconda3\\lib\\site-packages (from sqlalchemy) (4.9.0)\n",
      "Requirement already satisfied: greenlet!=0.4.17 in c:\\users\\ampob\\anaconda3\\lib\\site-packages (from sqlalchemy) (3.0.1)\n",
      "Requirement already satisfied: six>=1.5 in c:\\users\\ampob\\anaconda3\\lib\\site-packages (from python-dateutil>=2.8.2->pandas) (1.16.0)\n",
      "Note: you may need to restart the kernel to use updated packages.\n"
     ]
    }
   ],
   "source": [
    "pip install mysql-connector-python pandas sqlalchemy"
   ]
  },
  {
   "cell_type": "code",
   "execution_count": 18,
   "id": "8bba89e3-aaa2-4164-834a-720be1c798b7",
   "metadata": {
    "tags": []
   },
   "outputs": [],
   "source": [
    "from sqlalchemy import create_engine\n",
    "\n",
    "def create_db_engine(user, password, host, database):\n",
    "    return create_engine(f\"mysql+mysqlconnector://{user}:{password}@{host}/{database}\")\n",
    "\n",
    "# Replace 'your_username', 'your_password', 'your_host', and 'sakila' with your actual database details\n",
    "engine = create_db_engine('your_username', 'your_password', 'your_host', 'sakila')"
   ]
  },
  {
   "cell_type": "code",
   "execution_count": 20,
   "id": "4ba194a1-5f36-47e6-a63c-ef5527cb10d7",
   "metadata": {
    "tags": []
   },
   "outputs": [],
   "source": [
    "import pandas as pd\n",
    "\n",
    "def rentals_month(engine, month, year):\n",
    "    query = f\"\"\"\n",
    "    SELECT rental_id, rental_date, inventory_id, customer_id, return_date, staff_id, last_update\n",
    "    FROM rental\n",
    "    WHERE MONTH(rental_date) = {month} AND YEAR(rental_date) = {year};\n",
    "    \"\"\"\n",
    "    with engine.connect() as connection:\n",
    "        df = pd.read_sql(query, connection)\n",
    "    return df\n",
    "\n",
    "# Example usage:\n",
    "# df_may = rentals_month(engine, 5, 2023)\n"
   ]
  },
  {
   "cell_type": "code",
   "execution_count": 22,
   "id": "02b07a5a-9260-4f89-bc68-83a736d1bd25",
   "metadata": {
    "tags": []
   },
   "outputs": [],
   "source": [
    "def rental_count_month(df, month, year):\n",
    "    rental_count = df.groupby('customer_id').size().reset_index(name=f'rentals_{month:02d}_{year}')\n",
    "    return rental_count\n",
    "\n",
    "# Example usage:\n",
    "# rental_counts_may = rental_count_month(df_may, 5, 2023)\n"
   ]
  },
  {
   "cell_type": "code",
   "execution_count": 24,
   "id": "dd1ee2d7-def0-4fdc-8d88-a3e0569d40dc",
   "metadata": {
    "tags": []
   },
   "outputs": [],
   "source": [
    "def compare_rentals(df1, df2):\n",
    "    combined_df = pd.merge(df1, df2, on='customer_id', how='outer', suffixes=('_month1', '_month2')).fillna(0)\n",
    "    combined_df['difference'] = combined_df.iloc[:, 1] - combined_df.iloc[:, 2]\n",
    "    return combined_df\n",
    "\n",
    "# Example usage:\n",
    "# df_june = rentals_month(engine, 6, 2023)\n",
    "# rental_counts_june = rental_count_month(df_june, 6, 2023)\n",
    "# comparison_df = compare_rentals(rental_counts_may, rental_counts_june)\n",
    "\n"
   ]
  },
  {
   "cell_type": "code",
   "execution_count": 30,
   "id": "4ed02006-75c9-4cb9-bb0b-630e26c30321",
   "metadata": {
    "tags": []
   },
   "outputs": [
    {
     "name": "stdout",
     "output_type": "stream",
     "text": [
      "Empty DataFrame\n",
      "Columns: [rentals_05_2023, customer_id, rentals_06_2023, difference]\n",
      "Index: []\n"
     ]
    }
   ],
   "source": [
    "import pandas as pd\n",
    "from sqlalchemy import create_engine\n",
    "\n",
    "# Establish connection to the Sakila database\n",
    "def create_db_engine(user, password, host, database):\n",
    "    return create_engine(f\"mysql+mysqlconnector://{user}:{password}@{host}/{database}\")\n",
    "\n",
    "# Function to retrieve rental data for a given month and year\n",
    "def rentals_month(engine, month, year):\n",
    "    query = f\"\"\"\n",
    "    SELECT rental_id, rental_date, inventory_id, customer_id, return_date, staff_id, last_update\n",
    "    FROM rental\n",
    "    WHERE MONTH(rental_date) = {month} AND YEAR(rental_date) = {year};\n",
    "    \"\"\"\n",
    "    with engine.connect() as connection:\n",
    "        df = pd.read_sql(query, connection)\n",
    "    return df\n",
    "\n",
    "# Function to count rentals by customer for a given month and year\n",
    "def rental_count_month(df, month, year):\n",
    "    rental_count = df.groupby('customer_id').size().reset_index(name=f'rentals_{month:02d}_{year}')\n",
    "    return rental_count\n",
    "\n",
    "# Function to compare rentals between two DataFrames\n",
    "def compare_rentals(df1, df2):\n",
    "    combined_df = pd.merge(df1, df2, on='customer_id', how='outer', suffixes=('_month1', '_month2')).fillna(0)\n",
    "    combined_df['difference'] = combined_df.iloc[:, 1] - combined_df.iloc[:, 2]\n",
    "    return combined_df\n",
    "\n",
    "# Example usage:\n",
    "# Replace 'your_username', 'your_password', 'your_host', and 'sakila' with your database credentials\n",
    "engine = create_db_engine('root', 'JesusisLord.', '127.0.0.1', 'sakila')\n",
    "\n",
    "# Retrieve rental data for May and June\n",
    "df_may = rentals_month(engine, 5, 2023)\n",
    "df_june = rentals_month(engine, 6, 2023)\n",
    "\n",
    "# Count rentals by customer for May and June\n",
    "rental_counts_may = rental_count_month(df_may, 5, 2023)\n",
    "rental_counts_june = rental_count_month(df_june, 6, 2023)\n",
    "\n",
    "# Compare rentals between May and June\n",
    "comparison_df = compare_rentals(rental_counts_may, rental_counts_june)\n",
    "\n",
    "# Display the comparison DataFrame\n",
    "print(comparison_df)"
   ]
  }
 ],
 "metadata": {
  "kernelspec": {
   "display_name": "Python 3 (ipykernel)",
   "language": "python",
   "name": "python3"
  },
  "language_info": {
   "codemirror_mode": {
    "name": "ipython",
    "version": 3
   },
   "file_extension": ".py",
   "mimetype": "text/x-python",
   "name": "python",
   "nbconvert_exporter": "python",
   "pygments_lexer": "ipython3",
   "version": "3.11.7"
  }
 },
 "nbformat": 4,
 "nbformat_minor": 5
}
